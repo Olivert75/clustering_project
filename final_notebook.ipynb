{
 "cells": [
  {
   "cell_type": "markdown",
   "id": "055f5eeb-f544-4096-b73f-0606f90295b2",
   "metadata": {},
   "source": [
    "# Zillow Clustering Porject"
   ]
  },
  {
   "cell_type": "markdown",
   "id": "8671aae0-45df-4578-ae4c-1afa124ad53e",
   "metadata": {},
   "source": [
    "## Executive Summary"
   ]
  },
  {
   "cell_type": "markdown",
   "id": "bd3ad49e-e21c-404c-bd81-8bf503b3f75e",
   "metadata": {},
   "source": [
    "Goals: Build a new regression model to predict logerror (log(Zestimate) - log(SalePrice)), and use clustering to see if we can find groups of similar observations to generate new features to be fed into our supervised model."
   ]
  },
  {
   "cell_type": "markdown",
   "id": "38c6607b-5ea1-4632-972d-9153b2446aa3",
   "metadata": {},
   "source": [
    "## Objectives for this project include:"
   ]
  },
  {
   "cell_type": "markdown",
   "id": "c6ed7f0e-410c-418f-99da-b77120712dfc",
   "metadata": {},
   "source": [
    "Identify the drivers for logerrror by using clustering methodologies.\n",
    "\n",
    "Document the process and analysis throughout the data science pipeline.\n",
    "\n",
    "Demonstrate the information that was discovered."
   ]
  },
  {
   "cell_type": "code",
   "execution_count": 1,
   "id": "a47272c9-39bc-4350-afae-4ef307a02c49",
   "metadata": {},
   "outputs": [],
   "source": [
    "#imports\n",
    "import os\n",
    "import pandas as pd\n",
    "import warnings\n",
    "warnings.filterwarnings(\"ignore\")\n",
    "import seaborn as sns\n",
    "import pandas as pd\n",
    "import matplotlib.pyplot as plt\n",
    "import numpy as np\n",
    "from scipy import stats\n",
    "\n",
    "from sklearn.impute import SimpleImputer\n",
    "from sklearn.model_selection import train_test_split\n",
    "from sklearn.preprocessing import StandardScaler\n",
    "from sklearn.cluster import KMeans\n",
    "from sklearn.linear_model import LinearRegression, LassoLars, TweedieRegressor\n",
    "from sklearn.feature_selection import SelectKBest, f_regression, RFE\n",
    "import statsmodels.api as sm\n",
    "from sklearn.metrics import explained_variance_score\n",
    "\n",
    "import wrangle as w\n",
    "import explore as e\n",
    "import model as m"
   ]
  },
  {
   "cell_type": "markdown",
   "id": "4fba48c6-d63e-4ad2-acad-05c2e5f6c09c",
   "metadata": {},
   "source": [
    "### Wrangling"
   ]
  },
  {
   "cell_type": "markdown",
   "id": "55ff30d7-eb2e-4ce3-a595-0a70ddab4c49",
   "metadata": {},
   "source": [
    "Acquire Zillow data from Codeup database, and turn it into a .csv for quicker use"
   ]
  },
  {
   "cell_type": "code",
   "execution_count": 2,
   "id": "3b3ab041-c94c-4bbf-89d4-ec5df11b0baf",
   "metadata": {},
   "outputs": [
    {
     "data": {
      "text/html": [
       "<div>\n",
       "<style scoped>\n",
       "    .dataframe tbody tr th:only-of-type {\n",
       "        vertical-align: middle;\n",
       "    }\n",
       "\n",
       "    .dataframe tbody tr th {\n",
       "        vertical-align: top;\n",
       "    }\n",
       "\n",
       "    .dataframe thead th {\n",
       "        text-align: right;\n",
       "    }\n",
       "</style>\n",
       "<table border=\"1\" class=\"dataframe\">\n",
       "  <thead>\n",
       "    <tr style=\"text-align: right;\">\n",
       "      <th></th>\n",
       "      <th>typeconstructiontypeid</th>\n",
       "      <th>storytypeid</th>\n",
       "      <th>propertylandusetypeid</th>\n",
       "      <th>heatingorsystemtypeid</th>\n",
       "      <th>buildingclasstypeid</th>\n",
       "      <th>architecturalstyletypeid</th>\n",
       "      <th>airconditioningtypeid</th>\n",
       "      <th>parcelid</th>\n",
       "      <th>id</th>\n",
       "      <th>basementsqft</th>\n",
       "      <th>...</th>\n",
       "      <th>censustractandblock</th>\n",
       "      <th>logerror</th>\n",
       "      <th>transactiondate</th>\n",
       "      <th>airconditioningdesc</th>\n",
       "      <th>architecturalstyledesc</th>\n",
       "      <th>buildingclassdesc</th>\n",
       "      <th>heatingorsystemdesc</th>\n",
       "      <th>propertylandusedesc</th>\n",
       "      <th>storydesc</th>\n",
       "      <th>typeconstructiondesc</th>\n",
       "    </tr>\n",
       "  </thead>\n",
       "  <tbody>\n",
       "    <tr>\n",
       "      <th>0</th>\n",
       "      <td>NaN</td>\n",
       "      <td>NaN</td>\n",
       "      <td>261.0</td>\n",
       "      <td>NaN</td>\n",
       "      <td>NaN</td>\n",
       "      <td>NaN</td>\n",
       "      <td>NaN</td>\n",
       "      <td>14297519</td>\n",
       "      <td>1727539</td>\n",
       "      <td>NaN</td>\n",
       "      <td>...</td>\n",
       "      <td>6.059063e+13</td>\n",
       "      <td>0.025595</td>\n",
       "      <td>2017-01-01</td>\n",
       "      <td>NaN</td>\n",
       "      <td>NaN</td>\n",
       "      <td>NaN</td>\n",
       "      <td>NaN</td>\n",
       "      <td>Single Family Residential</td>\n",
       "      <td>NaN</td>\n",
       "      <td>NaN</td>\n",
       "    </tr>\n",
       "    <tr>\n",
       "      <th>1</th>\n",
       "      <td>NaN</td>\n",
       "      <td>NaN</td>\n",
       "      <td>261.0</td>\n",
       "      <td>NaN</td>\n",
       "      <td>NaN</td>\n",
       "      <td>NaN</td>\n",
       "      <td>NaN</td>\n",
       "      <td>17052889</td>\n",
       "      <td>1387261</td>\n",
       "      <td>NaN</td>\n",
       "      <td>...</td>\n",
       "      <td>6.111001e+13</td>\n",
       "      <td>0.055619</td>\n",
       "      <td>2017-01-01</td>\n",
       "      <td>NaN</td>\n",
       "      <td>NaN</td>\n",
       "      <td>NaN</td>\n",
       "      <td>NaN</td>\n",
       "      <td>Single Family Residential</td>\n",
       "      <td>NaN</td>\n",
       "      <td>NaN</td>\n",
       "    </tr>\n",
       "    <tr>\n",
       "      <th>2</th>\n",
       "      <td>NaN</td>\n",
       "      <td>NaN</td>\n",
       "      <td>261.0</td>\n",
       "      <td>NaN</td>\n",
       "      <td>NaN</td>\n",
       "      <td>NaN</td>\n",
       "      <td>NaN</td>\n",
       "      <td>14186244</td>\n",
       "      <td>11677</td>\n",
       "      <td>NaN</td>\n",
       "      <td>...</td>\n",
       "      <td>6.059022e+13</td>\n",
       "      <td>0.005383</td>\n",
       "      <td>2017-01-01</td>\n",
       "      <td>NaN</td>\n",
       "      <td>NaN</td>\n",
       "      <td>NaN</td>\n",
       "      <td>NaN</td>\n",
       "      <td>Single Family Residential</td>\n",
       "      <td>NaN</td>\n",
       "      <td>NaN</td>\n",
       "    </tr>\n",
       "    <tr>\n",
       "      <th>3</th>\n",
       "      <td>NaN</td>\n",
       "      <td>NaN</td>\n",
       "      <td>261.0</td>\n",
       "      <td>2.0</td>\n",
       "      <td>NaN</td>\n",
       "      <td>NaN</td>\n",
       "      <td>NaN</td>\n",
       "      <td>12177905</td>\n",
       "      <td>2288172</td>\n",
       "      <td>NaN</td>\n",
       "      <td>...</td>\n",
       "      <td>6.037300e+13</td>\n",
       "      <td>-0.103410</td>\n",
       "      <td>2017-01-01</td>\n",
       "      <td>NaN</td>\n",
       "      <td>NaN</td>\n",
       "      <td>NaN</td>\n",
       "      <td>Central</td>\n",
       "      <td>Single Family Residential</td>\n",
       "      <td>NaN</td>\n",
       "      <td>NaN</td>\n",
       "    </tr>\n",
       "    <tr>\n",
       "      <th>4</th>\n",
       "      <td>NaN</td>\n",
       "      <td>NaN</td>\n",
       "      <td>266.0</td>\n",
       "      <td>2.0</td>\n",
       "      <td>NaN</td>\n",
       "      <td>NaN</td>\n",
       "      <td>1.0</td>\n",
       "      <td>10887214</td>\n",
       "      <td>1970746</td>\n",
       "      <td>NaN</td>\n",
       "      <td>...</td>\n",
       "      <td>6.037124e+13</td>\n",
       "      <td>0.006940</td>\n",
       "      <td>2017-01-01</td>\n",
       "      <td>Central</td>\n",
       "      <td>NaN</td>\n",
       "      <td>NaN</td>\n",
       "      <td>Central</td>\n",
       "      <td>Condominium</td>\n",
       "      <td>NaN</td>\n",
       "      <td>NaN</td>\n",
       "    </tr>\n",
       "  </tbody>\n",
       "</table>\n",
       "<p>5 rows × 68 columns</p>\n",
       "</div>"
      ],
      "text/plain": [
       "   typeconstructiontypeid  storytypeid  propertylandusetypeid  \\\n",
       "0                     NaN          NaN                  261.0   \n",
       "1                     NaN          NaN                  261.0   \n",
       "2                     NaN          NaN                  261.0   \n",
       "3                     NaN          NaN                  261.0   \n",
       "4                     NaN          NaN                  266.0   \n",
       "\n",
       "   heatingorsystemtypeid  buildingclasstypeid  architecturalstyletypeid  \\\n",
       "0                    NaN                  NaN                       NaN   \n",
       "1                    NaN                  NaN                       NaN   \n",
       "2                    NaN                  NaN                       NaN   \n",
       "3                    2.0                  NaN                       NaN   \n",
       "4                    2.0                  NaN                       NaN   \n",
       "\n",
       "   airconditioningtypeid  parcelid       id  basementsqft  ...  \\\n",
       "0                    NaN  14297519  1727539           NaN  ...   \n",
       "1                    NaN  17052889  1387261           NaN  ...   \n",
       "2                    NaN  14186244    11677           NaN  ...   \n",
       "3                    NaN  12177905  2288172           NaN  ...   \n",
       "4                    1.0  10887214  1970746           NaN  ...   \n",
       "\n",
       "   censustractandblock  logerror  transactiondate  airconditioningdesc  \\\n",
       "0         6.059063e+13  0.025595       2017-01-01                  NaN   \n",
       "1         6.111001e+13  0.055619       2017-01-01                  NaN   \n",
       "2         6.059022e+13  0.005383       2017-01-01                  NaN   \n",
       "3         6.037300e+13 -0.103410       2017-01-01                  NaN   \n",
       "4         6.037124e+13  0.006940       2017-01-01              Central   \n",
       "\n",
       "   architecturalstyledesc  buildingclassdesc  heatingorsystemdesc  \\\n",
       "0                     NaN                NaN                  NaN   \n",
       "1                     NaN                NaN                  NaN   \n",
       "2                     NaN                NaN                  NaN   \n",
       "3                     NaN                NaN              Central   \n",
       "4                     NaN                NaN              Central   \n",
       "\n",
       "         propertylandusedesc  storydesc  typeconstructiondesc  \n",
       "0  Single Family Residential        NaN                   NaN  \n",
       "1  Single Family Residential        NaN                   NaN  \n",
       "2  Single Family Residential        NaN                   NaN  \n",
       "3  Single Family Residential        NaN                   NaN  \n",
       "4                Condominium        NaN                   NaN  \n",
       "\n",
       "[5 rows x 68 columns]"
      ]
     },
     "execution_count": 2,
     "metadata": {},
     "output_type": "execute_result"
    }
   ],
   "source": [
    "#get our data, turn into .csv, and check shape\n",
    "df = w.get_zillow_data()\n",
    "df.head()"
   ]
  },
  {
   "cell_type": "code",
   "execution_count": 3,
   "id": "8e060042-f0bc-4a09-aa5a-a78951ff7fe4",
   "metadata": {},
   "outputs": [
    {
     "name": "stdout",
     "output_type": "stream",
     "text": [
      "<class 'pandas.core.frame.DataFrame'>\n",
      "Int64Index: 77575 entries, 0 to 77574\n",
      "Data columns (total 68 columns):\n",
      " #   Column                        Non-Null Count  Dtype  \n",
      "---  ------                        --------------  -----  \n",
      " 0   typeconstructiontypeid        222 non-null    float64\n",
      " 1   storytypeid                   50 non-null     float64\n",
      " 2   propertylandusetypeid         77575 non-null  float64\n",
      " 3   heatingorsystemtypeid         49570 non-null  float64\n",
      " 4   buildingclasstypeid           15 non-null     float64\n",
      " 5   architecturalstyletypeid      206 non-null    float64\n",
      " 6   airconditioningtypeid         25006 non-null  float64\n",
      " 7   parcelid                      77575 non-null  int64  \n",
      " 8   id                            77575 non-null  int64  \n",
      " 9   basementsqft                  50 non-null     float64\n",
      " 10  bathroomcnt                   77575 non-null  float64\n",
      " 11  bedroomcnt                    77575 non-null  float64\n",
      " 12  buildingqualitytypeid         49809 non-null  float64\n",
      " 13  calculatedbathnbr             76960 non-null  float64\n",
      " 14  decktypeid                    614 non-null    float64\n",
      " 15  finishedfloor1squarefeet      6035 non-null   float64\n",
      " 16  calculatedfinishedsquarefeet  77375 non-null  float64\n",
      " 17  finishedsquarefeet12          73920 non-null  float64\n",
      " 18  finishedsquarefeet13          42 non-null     float64\n",
      " 19  finishedsquarefeet15          3027 non-null   float64\n",
      " 20  finishedsquarefeet50          6035 non-null   float64\n",
      " 21  finishedsquarefeet6           386 non-null    float64\n",
      " 22  fips                          77575 non-null  float64\n",
      " 23  fireplacecnt                  8287 non-null   float64\n",
      " 24  fullbathcnt                   76960 non-null  float64\n",
      " 25  garagecarcnt                  25517 non-null  float64\n",
      " 26  garagetotalsqft               25517 non-null  float64\n",
      " 27  hashottuborspa                1539 non-null   float64\n",
      " 28  latitude                      77575 non-null  float64\n",
      " 29  longitude                     77575 non-null  float64\n",
      " 30  lotsizesquarefeet             69318 non-null  float64\n",
      " 31  poolcnt                       16173 non-null  float64\n",
      " 32  poolsizesum                   869 non-null    float64\n",
      " 33  pooltypeid10                  465 non-null    float64\n",
      " 34  pooltypeid2                   1074 non-null   float64\n",
      " 35  pooltypeid7                   15078 non-null  float64\n",
      " 36  propertycountylandusecode     77575 non-null  object \n",
      " 37  propertyzoningdesc            50475 non-null  object \n",
      " 38  rawcensustractandblock        77575 non-null  float64\n",
      " 39  regionidcity                  76103 non-null  float64\n",
      " 40  regionidcounty                77575 non-null  float64\n",
      " 41  regionidneighborhood          30973 non-null  float64\n",
      " 42  regionidzip                   77525 non-null  float64\n",
      " 43  roomcnt                       77575 non-null  float64\n",
      " 44  threequarterbathnbr           10105 non-null  float64\n",
      " 45  unitcnt                       50703 non-null  float64\n",
      " 46  yardbuildingsqft17            2393 non-null   float64\n",
      " 47  yardbuildingsqft26            70 non-null     float64\n",
      " 48  yearbuilt                     77306 non-null  float64\n",
      " 49  numberofstories               17596 non-null  float64\n",
      " 50  fireplaceflag                 172 non-null    float64\n",
      " 51  structuretaxvaluedollarcnt    77460 non-null  float64\n",
      " 52  taxvaluedollarcnt             77574 non-null  float64\n",
      " 53  assessmentyear                77575 non-null  float64\n",
      " 54  landtaxvaluedollarcnt         77573 non-null  float64\n",
      " 55  taxamount                     77570 non-null  float64\n",
      " 56  taxdelinquencyflag            2900 non-null   object \n",
      " 57  taxdelinquencyyear            2900 non-null   float64\n",
      " 58  censustractandblock           77328 non-null  float64\n",
      " 59  logerror                      77575 non-null  float64\n",
      " 60  transactiondate               77575 non-null  object \n",
      " 61  airconditioningdesc           25006 non-null  object \n",
      " 62  architecturalstyledesc        206 non-null    object \n",
      " 63  buildingclassdesc             15 non-null     object \n",
      " 64  heatingorsystemdesc           49570 non-null  object \n",
      " 65  propertylandusedesc           77575 non-null  object \n",
      " 66  storydesc                     50 non-null     object \n",
      " 67  typeconstructiondesc          222 non-null    object \n",
      "dtypes: float64(55), int64(2), object(11)\n",
      "memory usage: 40.8+ MB\n"
     ]
    }
   ],
   "source": [
    "#Check how many missing values\n",
    "df.info()"
   ]
  },
  {
   "cell_type": "markdown",
   "id": "0f1a1a89-7fc8-4043-81b9-f28937022e33",
   "metadata": {},
   "source": [
    "Takeaways:\n",
    "\n",
    "Lots of missing values Some columns have inaccurate content? Let's just clean it up for now, and we'll decide what we want to explore on later\n",
    "\n",
    "Prepare our data for mostly-ready use. We're going to rename columns, make dummies, create new features, drop outliers, and drop columns and rows with more than 50% missing values."
   ]
  },
  {
   "cell_type": "code",
   "execution_count": 4,
   "id": "b8dd2b38-47d8-4c37-9e1c-d759d9f03e18",
   "metadata": {},
   "outputs": [
    {
     "name": "stdout",
     "output_type": "stream",
     "text": [
      "<class 'pandas.core.frame.DataFrame'>\n",
      "Int64Index: 49727 entries, 0 to 77574\n",
      "Data columns (total 47 columns):\n",
      " #   Column                      Non-Null Count  Dtype  \n",
      "---  ------                      --------------  -----  \n",
      " 0   propertylandusetypeid       49727 non-null  float64\n",
      " 1   parcel_id                   49727 non-null  int64  \n",
      " 2   id                          49727 non-null  int64  \n",
      " 3   baths                       49727 non-null  float64\n",
      " 4   beds                        49727 non-null  float64\n",
      " 5   calculatedbathnbr           49713 non-null  float64\n",
      " 6   sqft                        49727 non-null  float64\n",
      " 7   finishedsquarefeet12        49546 non-null  float64\n",
      " 8   fullbathcnt                 49713 non-null  float64\n",
      " 9   latitude                    49727 non-null  float64\n",
      " 10  longitude                   49727 non-null  float64\n",
      " 11  lotsizesquarefeet           49727 non-null  float64\n",
      " 12  propertycountylandusecode   49727 non-null  object \n",
      " 13  rawcensustractandblock      49727 non-null  float64\n",
      " 14  regionidcity                48809 non-null  float64\n",
      " 15  regionidzip                 49727 non-null  float64\n",
      " 16  roomcnt                     49727 non-null  float64\n",
      " 17  year_built                  49727 non-null  float64\n",
      " 18  structuretaxvaluedollarcnt  49671 non-null  float64\n",
      " 19  tax_value                   49727 non-null  float64\n",
      " 20  assessmentyear              49727 non-null  float64\n",
      " 21  landtaxvaluedollarcnt       49727 non-null  float64\n",
      " 22  tax_amount                  49727 non-null  float64\n",
      " 23  censustractandblock         49681 non-null  float64\n",
      " 24  logerror                    49727 non-null  float64\n",
      " 25  transactiondate             49727 non-null  object \n",
      " 26  propertylandusedesc         49727 non-null  object \n",
      " 27  LA                          49727 non-null  uint8  \n",
      " 28  Orange                      49727 non-null  uint8  \n",
      " 29  Ventura                     49727 non-null  uint8  \n",
      " 30  age                         49727 non-null  float64\n",
      " 31  age_bin                     49701 non-null  float64\n",
      " 32  taxrate                     49727 non-null  float64\n",
      " 33  acres                       49727 non-null  float64\n",
      " 34  acres_bin                   49727 non-null  float64\n",
      " 35  sqft_bin                    49727 non-null  float64\n",
      " 36  structure_dollar_per_sqft   49671 non-null  float64\n",
      " 37  structure_dollar_sqft_bin   49671 non-null  float64\n",
      " 38  land_dollar_per_sqft        49727 non-null  float64\n",
      " 39  lot_dollar_sqft_bin         49726 non-null  float64\n",
      " 40  bath_bed_ratio              49727 non-null  float64\n",
      " 41  cola                        49727 non-null  int64  \n",
      " 42  county                      49727 non-null  object \n",
      " 43  los_angeles                 49727 non-null  uint8  \n",
      " 44  orange                      49727 non-null  uint8  \n",
      " 45  ventura                     49727 non-null  uint8  \n",
      " 46  bathsandbeds                49727 non-null  float64\n",
      "dtypes: float64(34), int64(3), object(4), uint8(6)\n",
      "memory usage: 16.2+ MB\n"
     ]
    }
   ],
   "source": [
    "#Clean zillow and then look at the df once again\n",
    "df = w.prepare_zillow(df)\n",
    "df.info()"
   ]
  },
  {
   "cell_type": "code",
   "execution_count": 5,
   "id": "430342d3-a1cb-4094-b6eb-0b35359e0046",
   "metadata": {},
   "outputs": [],
   "source": [
    "#split into train, validate, test. Our target is logerror\n",
    "train, validate, test = w.train_validate_test_split(df, 'logerror', seed=1234)"
   ]
  },
  {
   "cell_type": "code",
   "execution_count": 6,
   "id": "48d4fc72-9700-4872-a2c4-2291e04f45e0",
   "metadata": {},
   "outputs": [],
   "source": [
    "#imputation preserves all cases by replacing missing data with an estimated value \n",
    "#based on other available information\n",
    "#return our train, validate, and test sets with calculatedbathnbr, fullbathcnt, regionidcity, regionidzip,censustractandblock\n",
    "#imputed with most frequent values\n",
    "train, validate, test = w.impute_nulls(train, validate, test, strategy='most_frequent', \n",
    "                        col_list=['calculatedbathnbr', 'fullbathcnt', 'regionidcity', 'regionidzip', 'censustractandblock'])"
   ]
  },
  {
   "cell_type": "code",
   "execution_count": 7,
   "id": "8a89e237-3d98-459f-a87a-74461f3f4a35",
   "metadata": {},
   "outputs": [],
   "source": [
    "#return our train, validate, and test sets with finishedsquarefeet12, lotsizesquarefeet, structuretaxvaluedollarcnt, \n",
    "#tax_value, land tax value dollar count, and tax amount imputed with the column's median value. \n",
    "train, validate, test = w.impute_nulls(train, validate, test, strategy='median', \n",
    "                        col_list=['finishedsquarefeet12', 'lotsizesquarefeet', 'structuretaxvaluedollarcnt', \n",
    "                                  'tax_value', 'landtaxvaluedollarcnt', 'tax_amount'])"
   ]
  },
  {
   "cell_type": "code",
   "execution_count": 8,
   "id": "b01219e9-4af1-4a65-82bd-84390f76cc06",
   "metadata": {},
   "outputs": [
    {
     "data": {
      "text/plain": [
       "(67, 47, 25)"
      ]
     },
     "execution_count": 8,
     "metadata": {},
     "output_type": "execute_result"
    }
   ],
   "source": [
    "#checking there are no more nulls in train valdiate and test\n",
    "train.isna().sum().sum(), validate.isna().sum().sum(), test.isna().sum().sum()"
   ]
  },
  {
   "cell_type": "code",
   "execution_count": 9,
   "id": "c9481b9c-166b-47df-b6bc-1b9c65581398",
   "metadata": {},
   "outputs": [],
   "source": [
    "#drop rows with remaining nulls from all of our split sets\n",
    "train = train.dropna()\n",
    "validate = validate.dropna()\n",
    "test = test.dropna()"
   ]
  },
  {
   "cell_type": "code",
   "execution_count": 10,
   "id": "3a2b3952-bf7f-43d0-acc1-a8d190b35929",
   "metadata": {},
   "outputs": [
    {
     "data": {
      "text/plain": [
       "(0, 0, 0)"
      ]
     },
     "execution_count": 10,
     "metadata": {},
     "output_type": "execute_result"
    }
   ],
   "source": [
    "#assuring there are no more nulls and we can almost get to work\n",
    "train.isna().sum().sum(), validate.isna().sum().sum(), test.isna().sum().sum()"
   ]
  },
  {
   "cell_type": "code",
   "execution_count": 11,
   "id": "903efba3-7fbf-48b9-9f86-441ffc54599d",
   "metadata": {},
   "outputs": [
    {
     "data": {
      "text/plain": [
       "((27805, 47), (11908, 47), (9932, 47))"
      ]
     },
     "execution_count": 11,
     "metadata": {},
     "output_type": "execute_result"
    }
   ],
   "source": [
    "#total rows and columns that are left to work with \n",
    "#train should have most dataset\n",
    "#47 columns in each dataset\n",
    "train.shape, validate.shape, test.shape"
   ]
  },
  {
   "cell_type": "code",
   "execution_count": 12,
   "id": "6fcd3cc6-02f0-4789-b157-9b10ca475e54",
   "metadata": {},
   "outputs": [],
   "source": [
    "#split new train, validate, and test into X_train, y_train, X_validate, y_validate, X_test, y_test with logerror as our target\n",
    "X_train, y_train, X_validate, y_validate, X_test, y_test = w.split_X_y(train, validate, test, 'logerror')"
   ]
  },
  {
   "cell_type": "code",
   "execution_count": 14,
   "id": "fb7b7a96-e567-46af-9ad9-bcf0c6e0c891",
   "metadata": {},
   "outputs": [],
   "source": [
    "#get object columns, and numeric columns so we can scale our data\n",
    "obj_cols = w.get_object_cols(X_train)\n",
    "num_cols = w.get_numeric_X_cols(X_train, obj_cols)"
   ]
  },
  {
   "cell_type": "code",
   "execution_count": 15,
   "id": "5d6260f8-e1cc-43f2-8b8c-277ce7c4b0aa",
   "metadata": {},
   "outputs": [],
   "source": [
    "#scale our X_train, X_validate, and X_test with standard scaler\n",
    "X_train_scaled, X_validate_scaled, X_test_scaled = w.standard_scale_data(X_train[num_cols],X_validate[num_cols],X_test[num_cols])"
   ]
  },
  {
   "cell_type": "markdown",
   "id": "9badd8c5-f99c-4b1e-9ecf-314f0b8e79fb",
   "metadata": {},
   "source": [
    "Takeaways:\n",
    "\n",
    "- Our data is now clean, and split into train, validate and test.\n",
    "- We dropped any rows and columns with more than 50% missing values \n",
    "- Dropped, filled, or imputed for remaining missing values \n",
    "- We went from 77,575 rows to 49,727rows. At the start, we had 68 columns, after the data is cleaned, now 47 columns."
   ]
  },
  {
   "cell_type": "markdown",
   "id": "bf379cb3-96c6-4fe4-95f1-da95c258315f",
   "metadata": {},
   "source": [
    "### Explore"
   ]
  },
  {
   "cell_type": "code",
   "execution_count": null,
   "id": "ade0b99e-450c-4b2a-9e52-6fb5a849f462",
   "metadata": {},
   "outputs": [],
   "source": []
  }
 ],
 "metadata": {
  "kernelspec": {
   "display_name": "Python 3 (ipykernel)",
   "language": "python",
   "name": "python3"
  },
  "language_info": {
   "codemirror_mode": {
    "name": "ipython",
    "version": 3
   },
   "file_extension": ".py",
   "mimetype": "text/x-python",
   "name": "python",
   "nbconvert_exporter": "python",
   "pygments_lexer": "ipython3",
   "version": "3.9.7"
  }
 },
 "nbformat": 4,
 "nbformat_minor": 5
}
